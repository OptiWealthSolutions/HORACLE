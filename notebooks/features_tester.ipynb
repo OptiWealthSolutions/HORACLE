{
 "cells": [
  {
   "cell_type": "code",
   "execution_count": 1,
   "id": "ca101f70",
   "metadata": {},
   "outputs": [],
   "source": [
    "import pandas as pd \n",
    "import numpy as np \n",
    "import yfinance as yf \n",
    "from sklearn.linear_model import LinearRegression\n",
    "from sklearn.metrics import r2_score\n",
    "import matplotlib.pyplot as plt\n"
   ]
  },
  {
   "cell_type": "code",
   "execution_count": 2,
   "id": "d80f938b",
   "metadata": {},
   "outputs": [],
   "source": [
    "# Parameters \n",
    "PERIOD = \"15y\"\n",
    "INTERVAL = \"1d\"\n",
    "SMOOTHING_WINDOW = 14\n",
    "LONG_WINDOW = 51\n",
    "SHORT_WINDOW = 2\n",
    "SHIFT = 5\n",
    "\n",
    "def load_data(ticker):\n",
    "    data = yf.download(tickers=ticker, period=PERIOD, interval=INTERVAL)\n",
    "    return data"
   ]
  },
  {
   "cell_type": "code",
   "execution_count": 3,
   "id": "aa8a225e",
   "metadata": {},
   "outputs": [],
   "source": [
    "def labelling(df):  \n",
    "    df[f'Close+{SHIFT}'] = df['Close'].shift(-SHIFT)\n",
    "    df['TARGET'] = df[f'Close+{SHIFT}'] - df['Close']\n",
    "    return df\n"
   ]
  },
  {
   "cell_type": "code",
   "execution_count": 4,
   "id": "e38bfeba",
   "metadata": {},
   "outputs": [],
   "source": [
    "def add_return_lag(df):\n",
    "    for i in range(1, SHIFT+1):\n",
    "        df[f'Lag_{i}'] = df['Close'].diff(i)\n",
    "    return df"
   ]
  },
  {
   "cell_type": "code",
   "execution_count": null,
   "id": "c8ec5f0d",
   "metadata": {},
   "outputs": [],
   "source": [
    "def add_sma_features(df):\n",
    "    df['SMA20'] = df['Close'].rolling(20).mean()\n",
    "    df['SMA50'] = df['Close'].rolling(50).mean()\n",
    "    crossii\n",
    "    return df "
   ]
  },
  {
   "cell_type": "code",
   "execution_count": 6,
   "id": "3541eeeb",
   "metadata": {},
   "outputs": [],
   "source": [
    "def add_vol_features(df):\n",
    "    df['Vol'] = df['Close'].rolling(SHIFT).std()\n",
    "    return df"
   ]
  },
  {
   "cell_type": "code",
   "execution_count": 7,
   "id": "cf375ed7",
   "metadata": {},
   "outputs": [],
   "source": [
    "def test_regression(df, x, y):\n",
    "    subset = df[[x, y]].dropna()\n",
    "\n",
    "    X = subset[[x]].values\n",
    "    Y = subset[y].values\n",
    "\n",
    "    model = LinearRegression()\n",
    "    model.fit(X, Y)\n",
    "    \n",
    "    y_pred = model.predict(X)\n",
    "    r2 = r2_score(Y, y_pred)\n",
    "\n",
    "    print(f\"R2: {r2:.4f}\")\n",
    "    print(f\"Coefficient: {model.coef_[0]:.4f}\")\n",
    "    print(f\"Intercept: {model.intercept_:.4f}\")\n",
    "\n",
    "    # Scatter plot avec droite de régression\n",
    "    plt.figure()\n",
    "    plt.scatter(X, Y, alpha=0.5)\n",
    "    plt.plot(X, y_pred, color=\"red\")\n",
    "    plt.title(f\"Linear Regression {x} vs {y}\")\n",
    "    plt.show()\n",
    "\n",
    "    return r2, model.coef_, model.intercept_"
   ]
  },
  {
   "cell_type": "code",
   "execution_count": 8,
   "id": "de8bf2ec",
   "metadata": {},
   "outputs": [],
   "source": [
    "def main():\n",
    "    df = load_data('EURUSD=X')\n",
    "    df = labelling(df)\n",
    "    df = add_return_lag(df)\n",
    "    df = add_sma_features(df)\n",
    "    df = add_vol_features(df)\n",
    "    test_regression(df, x='Vol', y='TARGET')\n"
   ]
  },
  {
   "cell_type": "code",
   "execution_count": 9,
   "id": "517fd248",
   "metadata": {},
   "outputs": [
    {
     "name": "stderr",
     "output_type": "stream",
     "text": [
      "/var/folders/rm/31t8h7qd3q9f6g5qw1z5dc800000gn/T/ipykernel_19344/4216987712.py:10: FutureWarning: YF.download() has changed argument auto_adjust default to True\n",
      "  data = yf.download(tickers=ticker, period=PERIOD, interval=INTERVAL)\n",
      "[*********************100%***********************]  1 of 1 completed\n"
     ]
    },
    {
     "ename": "ValueError",
     "evalue": "Cannot set a DataFrame with multiple columns to the single column TARGET",
     "output_type": "error",
     "traceback": [
      "\u001b[31m---------------------------------------------------------------------------\u001b[39m",
      "\u001b[31mValueError\u001b[39m                                Traceback (most recent call last)",
      "\u001b[32m/var/folders/rm/31t8h7qd3q9f6g5qw1z5dc800000gn/T/ipykernel_19344/451043146.py\u001b[39m in \u001b[36m?\u001b[39m\u001b[34m()\u001b[39m\n\u001b[32m----> \u001b[39m\u001b[32m1\u001b[39m main()\n",
      "\u001b[32m/var/folders/rm/31t8h7qd3q9f6g5qw1z5dc800000gn/T/ipykernel_19344/1526807679.py\u001b[39m in \u001b[36m?\u001b[39m\u001b[34m()\u001b[39m\n\u001b[32m      1\u001b[39m \u001b[38;5;28;01mdef\u001b[39;00m main():\n\u001b[32m      2\u001b[39m     df = load_data(\u001b[33m'EURUSD=X'\u001b[39m)\n\u001b[32m----> \u001b[39m\u001b[32m3\u001b[39m     df = labelling(df)\n\u001b[32m      4\u001b[39m     df = add_return_lag(df)\n\u001b[32m      5\u001b[39m     df = add_sma_features(df)\n\u001b[32m      6\u001b[39m     df = add_vol_features(df)\n",
      "\u001b[32m/var/folders/rm/31t8h7qd3q9f6g5qw1z5dc800000gn/T/ipykernel_19344/2240913466.py\u001b[39m in \u001b[36m?\u001b[39m\u001b[34m(df)\u001b[39m\n\u001b[32m      1\u001b[39m \u001b[38;5;28;01mdef\u001b[39;00m labelling(df):\n\u001b[32m      2\u001b[39m     df[f'Close+{SHIFT}'] = df[\u001b[33m'Close'\u001b[39m].shift(-SHIFT)\n\u001b[32m----> \u001b[39m\u001b[32m3\u001b[39m     df[\u001b[33m'TARGET'\u001b[39m] = df[f'Close+{SHIFT}'] - df[\u001b[33m'Close'\u001b[39m]\n\u001b[32m      4\u001b[39m     \u001b[38;5;28;01mreturn\u001b[39;00m df\n",
      "\u001b[32m~/Optiwealth_repo/HORACLE/.venv/lib/python3.12/site-packages/pandas/core/frame.py\u001b[39m in \u001b[36m?\u001b[39m\u001b[34m(self, key, value)\u001b[39m\n\u001b[32m   4302\u001b[39m             self._setitem_frame(key, value)\n\u001b[32m   4303\u001b[39m         \u001b[38;5;28;01melif\u001b[39;00m isinstance(key, (Series, np.ndarray, list, Index)):\n\u001b[32m   4304\u001b[39m             self._setitem_array(key, value)\n\u001b[32m   4305\u001b[39m         \u001b[38;5;28;01melif\u001b[39;00m isinstance(value, DataFrame):\n\u001b[32m-> \u001b[39m\u001b[32m4306\u001b[39m             self._set_item_frame_value(key, value)\n\u001b[32m   4307\u001b[39m         elif (\n\u001b[32m   4308\u001b[39m             is_list_like(value)\n\u001b[32m   4309\u001b[39m             \u001b[38;5;28;01mand\u001b[39;00m \u001b[38;5;28;01mnot\u001b[39;00m self.columns.is_unique\n",
      "\u001b[32m~/Optiwealth_repo/HORACLE/.venv/lib/python3.12/site-packages/pandas/core/frame.py\u001b[39m in \u001b[36m?\u001b[39m\u001b[34m(self, key, value)\u001b[39m\n\u001b[32m   4460\u001b[39m \n\u001b[32m   4461\u001b[39m             \u001b[38;5;28;01mreturn\u001b[39;00m self.isetitem(locs, value)\n\u001b[32m   4462\u001b[39m \n\u001b[32m   4463\u001b[39m         \u001b[38;5;28;01mif\u001b[39;00m len(value.columns) > \u001b[32m1\u001b[39m:\n\u001b[32m-> \u001b[39m\u001b[32m4464\u001b[39m             raise ValueError(\n\u001b[32m   4465\u001b[39m                 \u001b[33m\"Cannot set a DataFrame with multiple columns to the single \"\u001b[39m\n\u001b[32m   4466\u001b[39m                 f\"column {key}\"\n\u001b[32m   4467\u001b[39m             )\n",
      "\u001b[31mValueError\u001b[39m: Cannot set a DataFrame with multiple columns to the single column TARGET"
     ]
    }
   ],
   "source": [
    "main()"
   ]
  },
  {
   "cell_type": "code",
   "execution_count": null,
   "id": "697f1e06",
   "metadata": {},
   "outputs": [],
   "source": []
  }
 ],
 "metadata": {
  "kernelspec": {
   "display_name": ".venv",
   "language": "python",
   "name": "python3"
  },
  "language_info": {
   "codemirror_mode": {
    "name": "ipython",
    "version": 3
   },
   "file_extension": ".py",
   "mimetype": "text/x-python",
   "name": "python",
   "nbconvert_exporter": "python",
   "pygments_lexer": "ipython3",
   "version": "3.12.4"
  }
 },
 "nbformat": 4,
 "nbformat_minor": 5
}
