{
 "cells": [
  {
   "cell_type": "code",
   "execution_count": 18,
   "id": "ca101f70",
   "metadata": {},
   "outputs": [],
   "source": [
    "import pandas as pd \n",
    "import numpy as np \n",
    "import yfinance as yf \n",
    "from sklearn.linear_model import LinearRegression\n",
    "from sklearn.metrics import r2_score\n",
    "import matplotlib.pyplot as plt\n",
    "from sklearn.preprocessing import StandardScaler\n"
   ]
  },
  {
   "cell_type": "code",
   "execution_count": null,
   "id": "d80f938b",
   "metadata": {},
   "outputs": [],
   "source": [
    "# Parameters \n",
    "PERIOD = \"15y\"\n",
    "INTERVAL = \"1d\"\n",
    "SMOOTHING_WINDOW = 14\n",
    "LONG_WINDOW = 51\n",
    "SHORT_WINDOW = 2\n",
    "SHIFT = 5\n",
    "\n",
    "def load_data(ticker):\n",
    "    data = yf.download(tickers=ticker, period=PERIOD, interval=INTERVAL)\n",
    "    data = df['Close'].copy()\n",
    "    Price_z_score_ = \n",
    "    return data"
   ]
  },
  {
   "cell_type": "code",
   "execution_count": 11,
   "id": "aa8a225e",
   "metadata": {},
   "outputs": [],
   "source": [
    "def labelling(df):  \n",
    "    df[f'Close+{SHIFT}'] = df['Close'].shift(-SHIFT)\n",
    "    df['TARGET'] = df[f'Close+{SHIFT}'] - df['Close']\n",
    "    return df\n"
   ]
  },
  {
   "cell_type": "code",
   "execution_count": 12,
   "id": "e38bfeba",
   "metadata": {},
   "outputs": [],
   "source": [
    "def add_return_lag(df):\n",
    "    for i in range(1, SHIFT+1):\n",
    "        df[f'Lag_{i}'] = df['Close'].diff(i)\n",
    "    return df"
   ]
  },
  {
   "cell_type": "code",
   "execution_count": null,
   "id": "c8ec5f0d",
   "metadata": {},
   "outputs": [],
   "source": [
    "def add_sma_features(df):\n",
    "    df['SMA20'] = df['Close'].rolling(20).mean()\n",
    "    df['SMA50'] = df['Close'].rolling(50).mean()\n",
    "    return df "
   ]
  },
  {
   "cell_type": "code",
   "execution_count": 14,
   "id": "3541eeeb",
   "metadata": {},
   "outputs": [],
   "source": [
    "def add_vol_features(df):\n",
    "    df['Vol'] = df['Close'].rolling(SHIFT).std()\n",
    "    return df"
   ]
  },
  {
   "cell_type": "code",
   "execution_count": 15,
   "id": "cf375ed7",
   "metadata": {},
   "outputs": [],
   "source": [
    "def test_regression(df, x, y):\n",
    "    subset = df[[x, y]].dropna()\n",
    "\n",
    "    X = subset[[x]].values\n",
    "    Y = subset[y].values\n",
    "\n",
    "    model = LinearRegression()\n",
    "    model.fit(X, Y)\n",
    "    \n",
    "    y_pred = model.predict(X)\n",
    "    r2 = r2_score(Y, y_pred)\n",
    "\n",
    "    print(f\"R2: {r2:.4f}\")\n",
    "    print(f\"Coefficient: {model.coef_[0]:.4f}\")\n",
    "    print(f\"Intercept: {model.intercept_:.4f}\")\n",
    "\n",
    "    # Scatter plot avec droite de régression\n",
    "    plt.figure()\n",
    "    plt.scatter(X, Y, alpha=0.5)\n",
    "    plt.plot(X, y_pred, color=\"red\")\n",
    "    plt.title(f\"Linear Regression {x} vs {y}\")\n",
    "    plt.show()\n",
    "\n",
    "    return r2, model.coef_, model.intercept_"
   ]
  },
  {
   "cell_type": "code",
   "execution_count": 16,
   "id": "de8bf2ec",
   "metadata": {},
   "outputs": [],
   "source": [
    "def main():\n",
    "    df = load_data('EURUSD=X')\n",
    "    df = labelling(df)\n",
    "    df = add_return_lag(df)\n",
    "    df = add_sma_features(df)\n",
    "    df = add_vol_features(df)\n",
    "    test_regression(df, x='Vol', y='TARGET')\n"
   ]
  },
  {
   "cell_type": "code",
   "execution_count": 17,
   "id": "517fd248",
   "metadata": {},
   "outputs": [
    {
     "name": "stderr",
     "output_type": "stream",
     "text": [
      "/var/folders/rm/31t8h7qd3q9f6g5qw1z5dc800000gn/T/ipykernel_19344/2889648180.py:10: FutureWarning: YF.download() has changed argument auto_adjust default to True\n",
      "  data = yf.download(tickers=ticker, period=PERIOD, interval=INTERVAL)\n",
      "[*********************100%***********************]  1 of 1 completed\n"
     ]
    },
    {
     "ename": "NameError",
     "evalue": "name 'df' is not defined",
     "output_type": "error",
     "traceback": [
      "\u001b[31m---------------------------------------------------------------------------\u001b[39m",
      "\u001b[31mNameError\u001b[39m                                 Traceback (most recent call last)",
      "\u001b[36mCell\u001b[39m\u001b[36m \u001b[39m\u001b[32mIn[17]\u001b[39m\u001b[32m, line 1\u001b[39m\n\u001b[32m----> \u001b[39m\u001b[32m1\u001b[39m \u001b[43mmain\u001b[49m\u001b[43m(\u001b[49m\u001b[43m)\u001b[49m\n",
      "\u001b[36mCell\u001b[39m\u001b[36m \u001b[39m\u001b[32mIn[16]\u001b[39m\u001b[32m, line 2\u001b[39m, in \u001b[36mmain\u001b[39m\u001b[34m()\u001b[39m\n\u001b[32m      1\u001b[39m \u001b[38;5;28;01mdef\u001b[39;00m\u001b[38;5;250m \u001b[39m\u001b[34mmain\u001b[39m():\n\u001b[32m----> \u001b[39m\u001b[32m2\u001b[39m     df = \u001b[43mload_data\u001b[49m\u001b[43m(\u001b[49m\u001b[33;43m'\u001b[39;49m\u001b[33;43mEURUSD=X\u001b[39;49m\u001b[33;43m'\u001b[39;49m\u001b[43m)\u001b[49m\n\u001b[32m      3\u001b[39m     df = labelling(df)\n\u001b[32m      4\u001b[39m     df = add_return_lag(df)\n",
      "\u001b[36mCell\u001b[39m\u001b[36m \u001b[39m\u001b[32mIn[10]\u001b[39m\u001b[32m, line 11\u001b[39m, in \u001b[36mload_data\u001b[39m\u001b[34m(ticker)\u001b[39m\n\u001b[32m      9\u001b[39m \u001b[38;5;28;01mdef\u001b[39;00m\u001b[38;5;250m \u001b[39m\u001b[34mload_data\u001b[39m(ticker):\n\u001b[32m     10\u001b[39m     data = yf.download(tickers=ticker, period=PERIOD, interval=INTERVAL)\n\u001b[32m---> \u001b[39m\u001b[32m11\u001b[39m     data = \u001b[43mdf\u001b[49m[\u001b[33m'\u001b[39m\u001b[33mClose\u001b[39m\u001b[33m'\u001b[39m].copy()\n\u001b[32m     12\u001b[39m     \u001b[38;5;28;01mreturn\u001b[39;00m data\n",
      "\u001b[31mNameError\u001b[39m: name 'df' is not defined"
     ]
    }
   ],
   "source": [
    "main()"
   ]
  },
  {
   "cell_type": "code",
   "execution_count": null,
   "id": "697f1e06",
   "metadata": {},
   "outputs": [],
   "source": []
  }
 ],
 "metadata": {
  "kernelspec": {
   "display_name": ".venv",
   "language": "python",
   "name": "python3"
  },
  "language_info": {
   "codemirror_mode": {
    "name": "ipython",
    "version": 3
   },
   "file_extension": ".py",
   "mimetype": "text/x-python",
   "name": "python",
   "nbconvert_exporter": "python",
   "pygments_lexer": "ipython3",
   "version": "3.12.4"
  }
 },
 "nbformat": 4,
 "nbformat_minor": 5
}
