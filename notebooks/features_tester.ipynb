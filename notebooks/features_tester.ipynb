{
 "cells": [
  {
   "cell_type": "code",
   "execution_count": 14,
   "id": "ca101f70",
   "metadata": {},
   "outputs": [],
   "source": [
    "import pandas as pd \n",
    "import numpy as np \n",
    "import yfinance as yf \n",
    "from sklearn.linear_model import LinearRegression\n",
    "from sklearn.metrics import r2_score\n",
    "import matplotlib.pyplot as plt\n"
   ]
  },
  {
   "cell_type": "code",
   "execution_count": 15,
   "id": "d80f938b",
   "metadata": {},
   "outputs": [],
   "source": [
    "# Parameters \n",
    "PERIOD = \"15y\"\n",
    "INTERVAL = \"1d\"\n",
    "SMOOTHING_WINDOW = 14\n",
    "LONG_WINDOW = 51\n",
    "SHORT_WINDOW = 2\n",
    "SHIFT = 5\n",
    "\n",
    "def load_data(ticker):\n",
    "    data = yf.download(tickers=ticker, period=PERIOD, interval=INTERVAL)\n",
    "    return data"
   ]
  },
  {
   "cell_type": "code",
   "execution_count": null,
   "id": "aa8a225e",
   "metadata": {},
   "outputs": [],
   "source": [
    "def labelling(df):  \n",
    "    df['Close + {SHIFT}'] = df['Close'].shift(-SHIFT)\n",
    "    df['TARGET'] = df['Close + {SHIFT}'] - df['Close']\n",
    "    return df\n"
   ]
  },
  {
   "cell_type": "code",
   "execution_count": null,
   "id": "e38bfeba",
   "metadata": {},
   "outputs": [],
   "source": [
    "def add_return_lag(df):\n",
    "    for i in range(5):\n",
    "        df['Lag_{i}'] = df['Close'].diff(SHIFT)\n",
    "    return df"
   ]
  },
  {
   "cell_type": "code",
   "execution_count": 18,
   "id": "c8ec5f0d",
   "metadata": {},
   "outputs": [],
   "source": [
    "def add_sma_features(df):\n",
    "    df['SMA20'] = df['Close'].rolling(20).mean()\n",
    "    df['SMA50'] = df['Close'].rolling(50).mean()\n",
    "    return df "
   ]
  },
  {
   "cell_type": "code",
   "execution_count": 19,
   "id": "3541eeeb",
   "metadata": {},
   "outputs": [],
   "source": [
    "def add_vol_features(df):\n",
    "    df['Vol'] = df['Close'].shift(-1).std()\n",
    "    return df"
   ]
  },
  {
   "cell_type": "code",
   "execution_count": 20,
   "id": "cf375ed7",
   "metadata": {},
   "outputs": [],
   "source": [
    "def test_regression(df,x,y):\n",
    "    subset = df[[x,y]].dropna()\n",
    "\n",
    "    X = subset[x].values\n",
    "    y = subset[y].values\n",
    "\n",
    "    model = LinearRegression()\n",
    "    model.fit(X,y)\n",
    "    \n",
    "    y_pred = model.predict(X)\n",
    "\n",
    "    r2 = metrics.r2_score(y,y_pred)\n",
    "\n",
    "    print('coef'+model.coef_)"
   ]
  },
  {
   "cell_type": "code",
   "execution_count": 25,
   "id": "de8bf2ec",
   "metadata": {},
   "outputs": [],
   "source": [
    "def main():\n",
    "    df = load_data('EURUSD=X')\n",
    "    df = add_return_lag(df)\n",
    "    df = add_sma_features(df)\n",
    "    df = add_vol_features(df)\n",
    "    df = test_regression(df,x='Vol',y='TARGET')\n"
   ]
  },
  {
   "cell_type": "code",
   "execution_count": 26,
   "id": "517fd248",
   "metadata": {},
   "outputs": [
    {
     "name": "stderr",
     "output_type": "stream",
     "text": [
      "/var/folders/rm/31t8h7qd3q9f6g5qw1z5dc800000gn/T/ipykernel_19016/4216987712.py:10: FutureWarning: YF.download() has changed argument auto_adjust default to True\n",
      "  data = yf.download(tickers=ticker, period=PERIOD, interval=INTERVAL)\n",
      "[*********************100%***********************]  1 of 1 completed\n"
     ]
    },
    {
     "ename": "KeyError",
     "evalue": "\"['TARGET'] not in index\"",
     "output_type": "error",
     "traceback": [
      "\u001b[31m---------------------------------------------------------------------------\u001b[39m",
      "\u001b[31mKeyError\u001b[39m                                  Traceback (most recent call last)",
      "\u001b[36mCell\u001b[39m\u001b[36m \u001b[39m\u001b[32mIn[26]\u001b[39m\u001b[32m, line 1\u001b[39m\n\u001b[32m----> \u001b[39m\u001b[32m1\u001b[39m \u001b[43mmain\u001b[49m\u001b[43m(\u001b[49m\u001b[43m)\u001b[49m\n",
      "\u001b[36mCell\u001b[39m\u001b[36m \u001b[39m\u001b[32mIn[25]\u001b[39m\u001b[32m, line 6\u001b[39m, in \u001b[36mmain\u001b[39m\u001b[34m()\u001b[39m\n\u001b[32m      4\u001b[39m df = add_sma_features(df)\n\u001b[32m      5\u001b[39m df = add_vol_features(df)\n\u001b[32m----> \u001b[39m\u001b[32m6\u001b[39m df = \u001b[43mtest_regression\u001b[49m\u001b[43m(\u001b[49m\u001b[43mdf\u001b[49m\u001b[43m,\u001b[49m\u001b[43mx\u001b[49m\u001b[43m=\u001b[49m\u001b[33;43m'\u001b[39;49m\u001b[33;43mVol\u001b[39;49m\u001b[33;43m'\u001b[39;49m\u001b[43m,\u001b[49m\u001b[43my\u001b[49m\u001b[43m=\u001b[49m\u001b[33;43m'\u001b[39;49m\u001b[33;43mTARGET\u001b[39;49m\u001b[33;43m'\u001b[39;49m\u001b[43m)\u001b[49m\n",
      "\u001b[36mCell\u001b[39m\u001b[36m \u001b[39m\u001b[32mIn[20]\u001b[39m\u001b[32m, line 2\u001b[39m, in \u001b[36mtest_regression\u001b[39m\u001b[34m(df, x, y)\u001b[39m\n\u001b[32m      1\u001b[39m \u001b[38;5;28;01mdef\u001b[39;00m\u001b[38;5;250m \u001b[39m\u001b[34mtest_regression\u001b[39m(df,x,y):\n\u001b[32m----> \u001b[39m\u001b[32m2\u001b[39m     subset = \u001b[43mdf\u001b[49m\u001b[43m[\u001b[49m\u001b[43m[\u001b[49m\u001b[43mx\u001b[49m\u001b[43m,\u001b[49m\u001b[43my\u001b[49m\u001b[43m]\u001b[49m\u001b[43m]\u001b[49m.dropna()\n\u001b[32m      4\u001b[39m     X = subset[x].values\n\u001b[32m      5\u001b[39m     y = subset[y].values\n",
      "\u001b[36mFile \u001b[39m\u001b[32m~/Optiwealth_repo/HORACLE/.venv/lib/python3.12/site-packages/pandas/core/frame.py:4113\u001b[39m, in \u001b[36mDataFrame.__getitem__\u001b[39m\u001b[34m(self, key)\u001b[39m\n\u001b[32m   4111\u001b[39m     \u001b[38;5;28;01mif\u001b[39;00m is_iterator(key):\n\u001b[32m   4112\u001b[39m         key = \u001b[38;5;28mlist\u001b[39m(key)\n\u001b[32m-> \u001b[39m\u001b[32m4113\u001b[39m     indexer = \u001b[38;5;28;43mself\u001b[39;49m\u001b[43m.\u001b[49m\u001b[43mcolumns\u001b[49m\u001b[43m.\u001b[49m\u001b[43m_get_indexer_strict\u001b[49m\u001b[43m(\u001b[49m\u001b[43mkey\u001b[49m\u001b[43m,\u001b[49m\u001b[43m \u001b[49m\u001b[33;43m\"\u001b[39;49m\u001b[33;43mcolumns\u001b[39;49m\u001b[33;43m\"\u001b[39;49m\u001b[43m)\u001b[49m[\u001b[32m1\u001b[39m]\n\u001b[32m   4115\u001b[39m \u001b[38;5;66;03m# take() does not accept boolean indexers\u001b[39;00m\n\u001b[32m   4116\u001b[39m \u001b[38;5;28;01mif\u001b[39;00m \u001b[38;5;28mgetattr\u001b[39m(indexer, \u001b[33m\"\u001b[39m\u001b[33mdtype\u001b[39m\u001b[33m\"\u001b[39m, \u001b[38;5;28;01mNone\u001b[39;00m) == \u001b[38;5;28mbool\u001b[39m:\n",
      "\u001b[36mFile \u001b[39m\u001b[32m~/Optiwealth_repo/HORACLE/.venv/lib/python3.12/site-packages/pandas/core/indexes/multi.py:2782\u001b[39m, in \u001b[36mMultiIndex._get_indexer_strict\u001b[39m\u001b[34m(self, key, axis_name)\u001b[39m\n\u001b[32m   2779\u001b[39m \u001b[38;5;28;01mif\u001b[39;00m \u001b[38;5;28mlen\u001b[39m(keyarr) \u001b[38;5;129;01mand\u001b[39;00m \u001b[38;5;129;01mnot\u001b[39;00m \u001b[38;5;28misinstance\u001b[39m(keyarr[\u001b[32m0\u001b[39m], \u001b[38;5;28mtuple\u001b[39m):\n\u001b[32m   2780\u001b[39m     indexer = \u001b[38;5;28mself\u001b[39m._get_indexer_level_0(keyarr)\n\u001b[32m-> \u001b[39m\u001b[32m2782\u001b[39m     \u001b[38;5;28;43mself\u001b[39;49m\u001b[43m.\u001b[49m\u001b[43m_raise_if_missing\u001b[49m\u001b[43m(\u001b[49m\u001b[43mkey\u001b[49m\u001b[43m,\u001b[49m\u001b[43m \u001b[49m\u001b[43mindexer\u001b[49m\u001b[43m,\u001b[49m\u001b[43m \u001b[49m\u001b[43maxis_name\u001b[49m\u001b[43m)\u001b[49m\n\u001b[32m   2783\u001b[39m     \u001b[38;5;28;01mreturn\u001b[39;00m \u001b[38;5;28mself\u001b[39m[indexer], indexer\n\u001b[32m   2785\u001b[39m \u001b[38;5;28;01mreturn\u001b[39;00m \u001b[38;5;28msuper\u001b[39m()._get_indexer_strict(key, axis_name)\n",
      "\u001b[36mFile \u001b[39m\u001b[32m~/Optiwealth_repo/HORACLE/.venv/lib/python3.12/site-packages/pandas/core/indexes/multi.py:2800\u001b[39m, in \u001b[36mMultiIndex._raise_if_missing\u001b[39m\u001b[34m(self, key, indexer, axis_name)\u001b[39m\n\u001b[32m   2798\u001b[39m cmask = check == -\u001b[32m1\u001b[39m\n\u001b[32m   2799\u001b[39m \u001b[38;5;28;01mif\u001b[39;00m cmask.any():\n\u001b[32m-> \u001b[39m\u001b[32m2800\u001b[39m     \u001b[38;5;28;01mraise\u001b[39;00m \u001b[38;5;167;01mKeyError\u001b[39;00m(\u001b[33mf\u001b[39m\u001b[33m\"\u001b[39m\u001b[38;5;132;01m{\u001b[39;00mkeyarr[cmask]\u001b[38;5;132;01m}\u001b[39;00m\u001b[33m not in index\u001b[39m\u001b[33m\"\u001b[39m)\n\u001b[32m   2801\u001b[39m \u001b[38;5;66;03m# We get here when levels still contain values which are not\u001b[39;00m\n\u001b[32m   2802\u001b[39m \u001b[38;5;66;03m# actually in Index anymore\u001b[39;00m\n\u001b[32m   2803\u001b[39m \u001b[38;5;28;01mraise\u001b[39;00m \u001b[38;5;167;01mKeyError\u001b[39;00m(\u001b[33mf\u001b[39m\u001b[33m\"\u001b[39m\u001b[38;5;132;01m{\u001b[39;00mkeyarr\u001b[38;5;132;01m}\u001b[39;00m\u001b[33m not in index\u001b[39m\u001b[33m\"\u001b[39m)\n",
      "\u001b[31mKeyError\u001b[39m: \"['TARGET'] not in index\""
     ]
    }
   ],
   "source": [
    "main()"
   ]
  },
  {
   "cell_type": "code",
   "execution_count": null,
   "id": "a47cfacc",
   "metadata": {},
   "outputs": [],
   "source": []
  }
 ],
 "metadata": {
  "kernelspec": {
   "display_name": ".venv",
   "language": "python",
   "name": "python3"
  },
  "language_info": {
   "codemirror_mode": {
    "name": "ipython",
    "version": 3
   },
   "file_extension": ".py",
   "mimetype": "text/x-python",
   "name": "python",
   "nbconvert_exporter": "python",
   "pygments_lexer": "ipython3",
   "version": "3.12.4"
  }
 },
 "nbformat": 4,
 "nbformat_minor": 5
}
